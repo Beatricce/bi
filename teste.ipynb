{
 "cells": [
  {
   "cell_type": "code",
   "execution_count": 1,
   "metadata": {},
   "outputs": [
    {
     "name": "stderr",
     "output_type": "stream",
     "text": [
      "c:\\users\\beatriz\\appdata\\local\\programs\\python\\python37\\lib\\site-packages\\numpy\\_distributor_init.py:32: UserWarning: loaded more than 1 DLL from .libs:\n",
      "c:\\users\\beatriz\\appdata\\local\\programs\\python\\python37\\lib\\site-packages\\numpy\\.libs\\libopenblas.PYQHXLVVQ7VESDPUVUADXEVJOBGHJPAY.gfortran-win_amd64.dll\n",
      "c:\\users\\beatriz\\appdata\\local\\programs\\python\\python37\\lib\\site-packages\\numpy\\.libs\\libopenblas.TXA6YQSD3GCQQC22GEQ54J2UDCXDXHWN.gfortran-win_amd64.dll\n",
      "  stacklevel=1)\n"
     ]
    }
   ],
   "source": [
    "import matplotlib.pyplot as plt\n",
    "\n",
    "import pandas as pd\n",
    "import numpy as np\n",
    "\n",
    "import math\n",
    "import statistics\n",
    "import operator"
   ]
  },
  {
   "cell_type": "code",
   "execution_count": 2,
   "metadata": {},
   "outputs": [
    {
     "data": {
      "text/html": [
       "<div>\n",
       "<style scoped>\n",
       "    .dataframe tbody tr th:only-of-type {\n",
       "        vertical-align: middle;\n",
       "    }\n",
       "\n",
       "    .dataframe tbody tr th {\n",
       "        vertical-align: top;\n",
       "    }\n",
       "\n",
       "    .dataframe thead th {\n",
       "        text-align: right;\n",
       "    }\n",
       "</style>\n",
       "<table border=\"1\" class=\"dataframe\">\n",
       "  <thead>\n",
       "    <tr style=\"text-align: right;\">\n",
       "      <th></th>\n",
       "      <th>invite_id</th>\n",
       "      <th>employer_id</th>\n",
       "      <th>candidate_id</th>\n",
       "      <th>state</th>\n",
       "      <th>first_interview_medium</th>\n",
       "      <th>min_salary_range</th>\n",
       "      <th>max_salary_range</th>\n",
       "      <th>company_id</th>\n",
       "      <th>candidate_rejection_reason</th>\n",
       "      <th>info_asked</th>\n",
       "      <th>company_refused</th>\n",
       "      <th>company_rejection_reason</th>\n",
       "      <th>job_start_date</th>\n",
       "      <th>job_salary</th>\n",
       "    </tr>\n",
       "  </thead>\n",
       "  <tbody>\n",
       "    <tr>\n",
       "      <td>0</td>\n",
       "      <td>216</td>\n",
       "      <td>45</td>\n",
       "      <td>2686</td>\n",
       "      <td>refused_and_comunicated</td>\n",
       "      <td>presencial</td>\n",
       "      <td>4800.0</td>\n",
       "      <td>6000.0</td>\n",
       "      <td>182</td>\n",
       "      <td>NaN</td>\n",
       "      <td>f</td>\n",
       "      <td>f</td>\n",
       "      <td>NaN</td>\n",
       "      <td>NaN</td>\n",
       "      <td>NaN</td>\n",
       "    </tr>\n",
       "    <tr>\n",
       "      <td>1</td>\n",
       "      <td>217</td>\n",
       "      <td>416</td>\n",
       "      <td>2067</td>\n",
       "      <td>post_interview_feedback_requested</td>\n",
       "      <td>presencial</td>\n",
       "      <td>5000.0</td>\n",
       "      <td>6000.0</td>\n",
       "      <td>161</td>\n",
       "      <td>NaN</td>\n",
       "      <td>f</td>\n",
       "      <td>f</td>\n",
       "      <td>NaN</td>\n",
       "      <td>NaN</td>\n",
       "      <td>NaN</td>\n",
       "    </tr>\n",
       "    <tr>\n",
       "      <td>2</td>\n",
       "      <td>218</td>\n",
       "      <td>416</td>\n",
       "      <td>1901</td>\n",
       "      <td>post_interview_feedback_requested</td>\n",
       "      <td>presencial</td>\n",
       "      <td>5600.0</td>\n",
       "      <td>6000.0</td>\n",
       "      <td>161</td>\n",
       "      <td>NaN</td>\n",
       "      <td>f</td>\n",
       "      <td>f</td>\n",
       "      <td>NaN</td>\n",
       "      <td>NaN</td>\n",
       "      <td>NaN</td>\n",
       "    </tr>\n",
       "    <tr>\n",
       "      <td>3</td>\n",
       "      <td>219</td>\n",
       "      <td>416</td>\n",
       "      <td>1105</td>\n",
       "      <td>hired</td>\n",
       "      <td>presencial</td>\n",
       "      <td>3000.0</td>\n",
       "      <td>4000.0</td>\n",
       "      <td>161</td>\n",
       "      <td>NaN</td>\n",
       "      <td>f</td>\n",
       "      <td>f</td>\n",
       "      <td>NaN</td>\n",
       "      <td>02-01-15 2:00</td>\n",
       "      <td>3500</td>\n",
       "    </tr>\n",
       "    <tr>\n",
       "      <td>4</td>\n",
       "      <td>221</td>\n",
       "      <td>1125</td>\n",
       "      <td>389</td>\n",
       "      <td>awaiting_company_schedule</td>\n",
       "      <td>presencial</td>\n",
       "      <td>13000.0</td>\n",
       "      <td>14000.0</td>\n",
       "      <td>2</td>\n",
       "      <td>NaN</td>\n",
       "      <td>t</td>\n",
       "      <td>f</td>\n",
       "      <td>NaN</td>\n",
       "      <td>NaN</td>\n",
       "      <td>NaN</td>\n",
       "    </tr>\n",
       "  </tbody>\n",
       "</table>\n",
       "</div>"
      ],
      "text/plain": [
       "   invite_id employer_id  candidate_id                              state  \\\n",
       "0        216          45          2686            refused_and_comunicated   \n",
       "1        217         416          2067  post_interview_feedback_requested   \n",
       "2        218         416          1901  post_interview_feedback_requested   \n",
       "3        219         416          1105                              hired   \n",
       "4        221        1125           389          awaiting_company_schedule   \n",
       "\n",
       "  first_interview_medium  min_salary_range  max_salary_range company_id  \\\n",
       "0             presencial            4800.0            6000.0        182   \n",
       "1             presencial            5000.0            6000.0        161   \n",
       "2             presencial            5600.0            6000.0        161   \n",
       "3             presencial            3000.0            4000.0        161   \n",
       "4             presencial           13000.0           14000.0          2   \n",
       "\n",
       "  candidate_rejection_reason info_asked company_refused  \\\n",
       "0                        NaN          f               f   \n",
       "1                        NaN          f               f   \n",
       "2                        NaN          f               f   \n",
       "3                        NaN          f               f   \n",
       "4                        NaN          t               f   \n",
       "\n",
       "  company_rejection_reason job_start_date job_salary  \n",
       "0                      NaN            NaN        NaN  \n",
       "1                      NaN            NaN        NaN  \n",
       "2                      NaN            NaN        NaN  \n",
       "3                      NaN  02-01-15 2:00       3500  \n",
       "4                      NaN            NaN        NaN  "
      ]
     },
     "execution_count": 2,
     "metadata": {},
     "output_type": "execute_result"
    }
   ],
   "source": [
    "# Exporting and preparing data from .csv\n",
    "\n",
    "data = pd.read_csv(\"invites.csv\", sep = \";\", encoding=\"latin-1\")  \n",
    "data = data.fillna(\"NaN\")\n",
    "\n",
    "# Testing purpose\n",
    "data.head()"
   ]
  },
  {
   "cell_type": "code",
   "execution_count": 3,
   "metadata": {},
   "outputs": [
    {
     "name": "stdout",
     "output_type": "stream",
     "text": [
      "23165.0 220\n",
      "23165.0 206\n"
     ]
    }
   ],
   "source": [
    "# Building dict to associate amount of invite_ids and candidates numbers to each employer\n",
    "\n",
    "empl_dict_ivts, empl_dict_ivts_per_cand, empl_dict_cand = {}, {}, {}\n",
    "max_invites, max_inviter = 0, \"\"\n",
    "max_invites_ex, max_inviter_ex = 0, \"\" \n",
    "invites_int = []\n",
    "\n",
    "for i in range(data.shape[0]): # Iterate through all data lenght\n",
    "    \n",
    "    invite_id, employer_id, candidate_id = data[['invite_id', 'employer_id', 'candidate_id']].loc[i]\n",
    "    \n",
    "    if invite_id not in invites_int:  # verifying if the invite_ids are unique\n",
    "    \n",
    "        # Counting invites\n",
    "        if str(employer_id) in empl_dict_ivts:\n",
    "            empl_dict_ivts[str(employer_id)] += 1\n",
    "            if empl_dict_ivts[str(employer_id)]>max_invites:\n",
    "                max_invites = empl_dict_ivts[str(employer_id)]\n",
    "                max_inviter = str(employer_id) \n",
    "        else:\n",
    "            empl_dict_ivts[str(employer_id)] = 1\n",
    "\n",
    "        if str(employer_id) not in empl_dict_ivts_per_cand:\n",
    "            empl_dict_ivts_per_cand[str(employer_id)] = 1\n",
    "\n",
    "        #Counting inivtes, excluding different invites to the same person (counting one invite per person)\n",
    "        if str(employer_id) in empl_dict_cand:\n",
    "            if str(candidate_id) not in empl_dict_cand[str(employer_id)]:\n",
    "                empl_dict_cand[str(employer_id)].append(str(candidate_id))\n",
    "                empl_dict_ivts_per_cand[str(employer_id)]+=1\n",
    "                if empl_dict_ivts_per_cand[str(employer_id)] > max_invites_ex:\n",
    "                    max_invites_ex = empl_dict_ivts_per_cand[str(employer_id)]\n",
    "                    max_inviter_ex = str(employer_id) \n",
    "        else:\n",
    "            try:\n",
    "                empl_dict_cand[str(employer_id)].append(str(candidate_id))\n",
    "            except:\n",
    "                empl_dict_cand[str(employer_id)] = []\n",
    "    \n",
    "    invites_int.append(invite_id)\n",
    "        \n",
    "# Testing purpose\n",
    "print(max_inviter, max_invites)\n",
    "print(max_inviter_ex, max_invites_ex)"
   ]
  },
  {
   "cell_type": "code",
   "execution_count": 4,
   "metadata": {},
   "outputs": [
    {
     "data": {
      "image/png": "[encoded data removed]",
      "text/plain": [
       "<Figure size 720x360 with 1 Axes>"
      ]
     },
     "metadata": {
      "needs_background": "light"
     },
     "output_type": "display_data"
    }
   ],
   "source": [
    "# Shows the 10 companies that send the most invites\n",
    "s_empl_dict_ivts = sorted(empl_dict_ivts.items(), key=operator.itemgetter(1))\n",
    "s_empl_dict_ivts = s_empl_dict_ivts[len(s_empl_dict_ivts)-11:len(s_empl_dict_ivts)]\n",
    "\n",
    "x, y = zip(*s_empl_dict_ivts) # unpack a list of pairs into two tuples\n",
    "\n",
    "fig = plt.figure(figsize=(10,5))\n",
    "\n",
    "ax = fig.add_axes([0,0,1,1])\n",
    "ax.bar(x,y)\n",
    "\n",
    "plt.show()"
   ]
  },
  {
   "cell_type": "code",
   "execution_count": 5,
   "metadata": {},
   "outputs": [
    {
     "data": {
      "text/html": [
       "<div>\n",
       "<style scoped>\n",
       "    .dataframe tbody tr th:only-of-type {\n",
       "        vertical-align: middle;\n",
       "    }\n",
       "\n",
       "    .dataframe tbody tr th {\n",
       "        vertical-align: top;\n",
       "    }\n",
       "\n",
       "    .dataframe thead th {\n",
       "        text-align: right;\n",
       "    }\n",
       "</style>\n",
       "<table border=\"1\" class=\"dataframe\">\n",
       "  <thead>\n",
       "    <tr style=\"text-align: right;\">\n",
       "      <th></th>\n",
       "      <th>user_id</th>\n",
       "      <th>sign_in_count</th>\n",
       "      <th>pretensao_salarial</th>\n",
       "      <th>test_status</th>\n",
       "      <th>want_to_change</th>\n",
       "      <th>home_office_only</th>\n",
       "      <th>gender</th>\n",
       "      <th>invintable_reason</th>\n",
       "      <th>is_employer</th>\n",
       "      <th>company_id</th>\n",
       "    </tr>\n",
       "  </thead>\n",
       "  <tbody>\n",
       "    <tr>\n",
       "      <td>0</td>\n",
       "      <td>35</td>\n",
       "      <td>4</td>\n",
       "      <td>8000</td>\n",
       "      <td>passed</td>\n",
       "      <td>10</td>\n",
       "      <td>f</td>\n",
       "      <td>male</td>\n",
       "      <td>NaN</td>\n",
       "      <td>f</td>\n",
       "      <td>NaN</td>\n",
       "    </tr>\n",
       "    <tr>\n",
       "      <td>1</td>\n",
       "      <td>47</td>\n",
       "      <td>11</td>\n",
       "      <td>NaN</td>\n",
       "      <td>not_done</td>\n",
       "      <td>NaN</td>\n",
       "      <td>f</td>\n",
       "      <td>male</td>\n",
       "      <td>NaN</td>\n",
       "      <td>f</td>\n",
       "      <td>NaN</td>\n",
       "    </tr>\n",
       "    <tr>\n",
       "      <td>2</td>\n",
       "      <td>49</td>\n",
       "      <td>47</td>\n",
       "      <td>7000</td>\n",
       "      <td>not_done</td>\n",
       "      <td>3</td>\n",
       "      <td>f</td>\n",
       "      <td>male</td>\n",
       "      <td>outside_hire</td>\n",
       "      <td>f</td>\n",
       "      <td>NaN</td>\n",
       "    </tr>\n",
       "    <tr>\n",
       "      <td>3</td>\n",
       "      <td>76</td>\n",
       "      <td>21</td>\n",
       "      <td>11000</td>\n",
       "      <td>passed</td>\n",
       "      <td>10</td>\n",
       "      <td>f</td>\n",
       "      <td>male</td>\n",
       "      <td>employed</td>\n",
       "      <td>f</td>\n",
       "      <td>NaN</td>\n",
       "    </tr>\n",
       "    <tr>\n",
       "      <td>4</td>\n",
       "      <td>98</td>\n",
       "      <td>29</td>\n",
       "      <td>6500</td>\n",
       "      <td>not_done</td>\n",
       "      <td>10</td>\n",
       "      <td>f</td>\n",
       "      <td>male</td>\n",
       "      <td>platform_hire</td>\n",
       "      <td>f</td>\n",
       "      <td>NaN</td>\n",
       "    </tr>\n",
       "  </tbody>\n",
       "</table>\n",
       "</div>"
      ],
      "text/plain": [
       "   user_id  sign_in_count pretensao_salarial test_status want_to_change  \\\n",
       "0       35              4               8000      passed             10   \n",
       "1       47             11                NaN    not_done            NaN   \n",
       "2       49             47               7000    not_done              3   \n",
       "3       76             21              11000      passed             10   \n",
       "4       98             29               6500    not_done             10   \n",
       "\n",
       "  home_office_only gender invintable_reason is_employer company_id  \n",
       "0                f   male               NaN           f        NaN  \n",
       "1                f   male               NaN           f        NaN  \n",
       "2                f   male      outside_hire           f        NaN  \n",
       "3                f   male          employed           f        NaN  \n",
       "4                f   male     platform_hire           f        NaN  "
      ]
     },
     "execution_count": 5,
     "metadata": {},
     "output_type": "execute_result"
    }
   ],
   "source": [
    "# Exporting and preparing data from .csv\n",
    "\n",
    "data_invites = pd.read_csv(\"invites.csv\", sep = \";\", encoding=\"latin-1\")  \n",
    "data_users = pd.read_csv(\"users.csv\", sep = \";\", encoding=\"latin-1\")\n",
    "data_invites = data_invites.fillna(\"NaN\")\n",
    "data_users = data_users.fillna(\"NaN\")\n",
    "\n",
    "# Testing purpose\n",
    "data_users.head()"
   ]
  },
  {
   "cell_type": "code",
   "execution_count": 7,
   "metadata": {},
   "outputs": [],
   "source": [
    "candidates_dict, users_dict, employers_dict = {}, {}, {}\n",
    "\n",
    "for i in range(data_invites.shape[0]): \n",
    "    \n",
    "    employer_id, candidate_id, state, min_sal, max_sal, job_sal = data_invites[['employer_id', 'candidate_id', 'state', 'min_salary_range', 'max_salary_range', 'job_salary']].loc[i]\n",
    "    if str(candidate_id) not in candidates_dict:\n",
    "        candidates_dict[str(candidate_id)] = {}\n",
    "        candidates_dict[str(candidate_id)][\"state\"] = [state]\n",
    "        candidates_dict[str(candidate_id)][\"employer_id\"] = [employer_id]\n",
    "        candidates_dict[str(candidate_id)][\"range_sal\"] = [[min_sal, max_sal]]\n",
    "        candidates_dict[str(candidate_id)][\"avg_sal\"] = [(min_sal+max_sal)/2]\n",
    "        candidates_dict[str(candidate_id)][\"job_sal\"] = [job_sal] \n",
    "    else:\n",
    "        candidates_dict[str(candidate_id)][\"state\"].append(state)\n",
    "        candidates_dict[str(candidate_id)][\"avg_sal\"].append((min_sal+max_sal)/2)\n",
    "        candidates_dict[str(candidate_id)][\"job_sal\"].append(job_sal)\n",
    "        candidates_dict[str(candidate_id)][\"employer_id\"].append(employer_id)\n",
    "        candidates_dict[str(candidate_id)][\"range_sal\"].append([min_sal, max_sal])\n",
    "        \n",
    "for i in range(data_users.shape[0]):\n",
    "    \n",
    "    user_id, pretensao_salarial, is_employer, gender, company_id = data_users[['user_id', 'pretensao_salarial', 'is_employer', 'gender', 'company_id']].loc[i]\n",
    "    if is_employer == \"f\":\n",
    "        if str(user_id) not in users_dict: \n",
    "            users_dict[str(user_id)] = {}\n",
    "            users_dict[str(user_id)][\"pretensao_salarial\"] = pretensao_salarial\n",
    "            users_dict[str(user_id)][\"gender\"] = gender\n",
    "    else:\n",
    "        if str(company_id) not in employers_dict: \n",
    "            employers_dict[str(company_id)] = {}\n",
    "            employers_dict[str(company_id)][\"pretensao_salarial\"] = pretensao_salarial\n",
    "            employers_dict[str(company_id)][\"gender\"] = gender\n",
    "            \n",
    "            \n",
    "        "
   ]
  },
  {
   "cell_type": "code",
   "execution_count": 8,
   "metadata": {},
   "outputs": [],
   "source": [
    "is_disappointed, is_really_disappointed = 0, 0 # amount of candidates with expectitions higher than the avg of salary range, and max of salary range\n",
    "disappointment_diff_avg, disappointment_diff_max = [], []\n",
    "candidates_per_sal_range = {}\n",
    "pretensoes_per_sal_range = {}\n",
    "invites_per_sal_range = {}\n",
    "\n",
    "for candidate in candidates_dict:\n",
    "    \n",
    "    if candidate in users_dict:\n",
    "        \n",
    "        min_for_candidate, max_for_candidate = math.inf, 0 \n",
    "        pretensao_salarial = users_dict[candidate][\"pretensao_salarial\"]\n",
    "        \n",
    "        if pretensao_salarial!= \"NaN\":\n",
    "            if pretensao_salarial - pretensao_salarial%100 not in pretensoes_per_sal_range:\n",
    "                pretensoes_per_sal_range[pretensao_salarial - pretensao_salarial%100] = 1\n",
    "            else:\n",
    "                pretensoes_per_sal_range[pretensao_salarial - pretensao_salarial%100] += 1\n",
    "        \n",
    "        for range_sal_i in candidates_dict[candidate][\"range_sal\"]:\n",
    "            if range_sal_i[0] < min_for_candidate:\n",
    "                min_for_candidate = range_sal_i[0]\n",
    "            if range_sal_i[1] > max_for_candidate:\n",
    "                max_for_candidate = range_sal_i[1]\n",
    "            \n",
    "            if pretensao_salarial!= \"NaN\":\n",
    "                if pretensao_salarial > statistics.mean(range_sal_i):\n",
    "                    is_disappointed += 1\n",
    "                    disappointment_diff_avg.append(pretensao_salarial-statistics.mean(range_sal_i))\n",
    "\n",
    "                if pretensao_salarial > range_sal_i[1]:\n",
    "                    is_really_disappointed += 1\n",
    "                    disappointment_diff_max.append(pretensao_salarial-range_sal_i[1])\n",
    "            \n",
    "            for sal_i in range(int(range_sal_i[0])- int(range_sal_i[0])%100, int(range_sal_i[1]) - int(range_sal_i[1])%100, 100): # each salary range is spaced by a hundred\n",
    "                if sal_i not in invites_per_sal_range:\n",
    "                    invites_per_sal_range[sal_i] = 1\n",
    "                else:\n",
    "                    invites_per_sal_range[sal_i] += 1\n",
    "        \n",
    "        #print(int(min_for_candidate), int(max_for_candidate))\n",
    "        \n",
    "        for sal_i in range(int(min_for_candidate) - int(min_for_candidate)%100, int(max_for_candidate) - int(max_for_candidate)%100, 100):\n",
    "            if sal_i not in candidates_per_sal_range:\n",
    "                candidates_per_sal_range[sal_i] = 1\n",
    "            else:\n",
    "                candidates_per_sal_range[sal_i] += 1\n",
    "                \n",
    "                    \n",
    "                \n",
    "    "
   ]
  },
  {
   "cell_type": "code",
   "execution_count": 9,
   "metadata": {},
   "outputs": [
    {
     "name": "stdout",
     "output_type": "stream",
     "text": [
      "5247\n",
      "2416 1483\n",
      "1986.5898592715232 2233.412677006069\n"
     ]
    }
   ],
   "source": [
    "print(data_invites.shape[0])\n",
    "print(is_disappointed, is_really_disappointed)\n",
    "print(statistics.mean(disappointment_diff_avg), statistics.mean(disappointment_diff_max))"
   ]
  },
  {
   "cell_type": "code",
   "execution_count": 10,
   "metadata": {},
   "outputs": [
    {
     "data": {
      "image/png": "[encoded data removed]",
      "text/plain": [
       "<Figure size 864x648 with 1 Axes>"
      ]
     },
     "metadata": {
      "needs_background": "light"
     },
     "output_type": "display_data"
    }
   ],
   "source": [
    "lists = sorted(candidates_per_sal_range.items()) # sorted by key, return a list of tuples\n",
    "\n",
    "x, y = zip(*lists) # unpack a list of pairs into two tuples\n",
    "\n",
    "fig = plt.figure(figsize=(12,9))\n",
    "\n",
    "ax = fig.add_axes([0,0,1,1])\n",
    "\n",
    "hundred_list = []\n",
    "for i in x:\n",
    "    hundred_list.append(100)\n",
    "    \n",
    "ax.bar(x,y, hundred_list)\n",
    "\n",
    "plt.show()"
   ]
  },
  {
   "cell_type": "code",
   "execution_count": 11,
   "metadata": {},
   "outputs": [
    {
     "data": {
      "text/plain": [
       "<Figure size 432x288 with 0 Axes>"
      ]
     },
     "metadata": {},
     "output_type": "display_data"
    },
    {
     "data": {
      "image/png": "[encoded data removed]",
      "text/plain": [
       "<Figure size 864x648 with 1 Axes>"
      ]
     },
     "metadata": {
      "needs_background": "light"
     },
     "output_type": "display_data"
    }
   ],
   "source": [
    "lists = sorted(pretensoes_per_sal_range.items()) # sorted by key, return a list of tuples\n",
    "\n",
    "x, y = zip(*lists) # unpack a list of pairs into two tuples\n",
    "\n",
    "fig = plt.figure()\n",
    "fig = plt.figure(figsize=(12,9))\n",
    "\n",
    "ax = fig.add_axes([0,0,1,1])\n",
    "hundred_list = []\n",
    "for i in x:\n",
    "    hundred_list.append(100)\n",
    "ax.bar(x,y, hundred_list)\n",
    "\n",
    "plt.show()"
   ]
  },
  {
   "cell_type": "code",
   "execution_count": 12,
   "metadata": {},
   "outputs": [
    {
     "data": {
      "image/png": "[encoded data removed]",
      "text/plain": [
       "<Figure size 864x648 with 1 Axes>"
      ]
     },
     "metadata": {
      "needs_background": "light"
     },
     "output_type": "display_data"
    }
   ],
   "source": [
    "lists = sorted(invites_per_sal_range.items()) # sorted by key, return a list of tuples\n",
    "\n",
    "x, y = zip(*lists) # unpack a list of pairs into two tuples\n",
    "\n",
    "fig = plt.figure(figsize=(12,9))\n",
    "\n",
    "ax = fig.add_axes([0,0,1,1])\n",
    "\n",
    "hundred_list = []\n",
    "for i in x:\n",
    "    hundred_list.append(100)\n",
    "ax.bar(x,y, hundred_list)\n",
    "\n",
    "plt.show()"
   ]
  },
  {
   "cell_type": "code",
   "execution_count": 13,
   "metadata": {},
   "outputs": [],
   "source": [
    "company_hire_dict = {}\n",
    "max_hires, max_company_hires = 0, 0\n",
    "\n",
    "for candidate in candidates_dict:\n",
    "    \n",
    "    for state_i in range(len(candidates_dict[candidate][\"state\"])):\n",
    "        if candidates_dict[candidate][\"state\"][state_i] == \"hired\":\n",
    "            if str(candidates_dict[candidate][\"employer_id\"][state_i]) not in company_hire_dict:\n",
    "                company_hire_dict[str(candidates_dict[candidate][\"employer_id\"][state_i])] = 1\n",
    "            else:\n",
    "                company_hire_dict[str(candidates_dict[candidate][\"employer_id\"][state_i])]+=1\n",
    "                if company_hire_dict[str(candidates_dict[candidate][\"employer_id\"][state_i])]>max_hires:\n",
    "                    max_hires = company_hire_dict[str(candidates_dict[candidate][\"employer_id\"][state_i])]\n",
    "                    max_company_hires = candidates_dict[candidate][\"employer_id\"][state_i]"
   ]
  },
  {
   "cell_type": "code",
   "execution_count": 14,
   "metadata": {},
   "outputs": [
    {
     "data": {
      "image/png": "[encoded data removed]",
      "text/plain": [
       "<Figure size 720x360 with 1 Axes>"
      ]
     },
     "metadata": {
      "needs_background": "light"
     },
     "output_type": "display_data"
    }
   ],
   "source": [
    "# Shows the 10 companies that send the most invites\n",
    "sorted_company_hire_dict = sorted(company_hire_dict.items(), key=operator.itemgetter(1))\n",
    "sorted_company_hire_dict = sorted_company_hire_dict[len(sorted_company_hire_dict)-10:len(sorted_company_hire_dict)]\n",
    "\n",
    "x, y = zip(*sorted_company_hire_dict) # unpack a list of pairs into two tuples\n",
    "\n",
    "fig = plt.figure(figsize=(10,5))\n",
    "\n",
    "ax = fig.add_axes([0,0,1,1])\n",
    "ax.bar(x,y)\n",
    "\n",
    "plt.show()"
   ]
  },
  {
   "cell_type": "code",
   "execution_count": 16,
   "metadata": {},
   "outputs": [],
   "source": [
    "sal_ranges, sal_ranges_nh = {}, {} # nh stands for not hired\n",
    "sal_ranges_int, sal_ranges_int_nh = [], []\n",
    "\n",
    "for candidate in candidates_dict:\n",
    "    for empl_i in range(len(candidates_dict[candidate][\"employer_id\"])):\n",
    "        if str(candidates_dict[candidate][\"employer_id\"][empl_i]) == sorted_company_hire_dict[len(sorted_company_hire_dict)-1][0]:\n",
    "            if candidates_dict[candidate][\"state\"][empl_i] == \"hired\":\n",
    "                range_sal_i = candidates_dict[candidate][\"range_sal\"][empl_i]\n",
    "                sal_ranges_int.append(range_sal_i)\n",
    "                for sal_i in range(int(range_sal_i[0])- int(range_sal_i[0])%100, int(range_sal_i[1]) - int(range_sal_i[1])%100 , 100): # each salary range is spaced by a hundred\n",
    "                    if sal_i not in sal_ranges:\n",
    "                        sal_ranges[sal_i] = 0\n",
    "                    else:\n",
    "                        sal_ranges[sal_i] += 1\n",
    "            else:\n",
    "                range_sal_i = candidates_dict[candidate][\"range_sal\"][empl_i]\n",
    "                sal_ranges_int_nh.append(range_sal_i)\n",
    "                for sal_i in range(int(range_sal_i[0])- int(range_sal_i[0])%100, int(range_sal_i[1]) - int(range_sal_i[1])%100 , 100): # each salary range is spaced by a hundred\n",
    "                    if sal_i not in sal_ranges:\n",
    "                        sal_ranges_nh[sal_i] = 0\n",
    "                    else:\n",
    "                        sal_ranges_nh[sal_i] += 1\n",
    "            \n",
    "            \n",
    "        "
   ]
  },
  {
   "cell_type": "code",
   "execution_count": 18,
   "metadata": {},
   "outputs": [
    {
     "data": {
      "image/png": "[encoded data removed]",
      "text/plain": [
       "<Figure size 432x288 with 1 Axes>"
      ]
     },
     "metadata": {
      "needs_background": "light"
     },
     "output_type": "display_data"
    }
   ],
   "source": [
    "lists = sorted(sal_ranges.items()) # sorted by key, return a list of tuples\n",
    "\n",
    "x, y = zip(*lists) # unpack a list of pairs into two tuples\n",
    "\n",
    "fig = plt.figure()\n",
    "\n",
    "ax = fig.add_axes([0,0,1,1])\n",
    "hundred_list = []\n",
    "for i in x:\n",
    "    hundred_list.append(100)\n",
    "ax.bar(x,y, hundred_list)\n",
    "\n",
    "plt.show()\n",
    "\n"
   ]
  },
  {
   "cell_type": "code",
   "execution_count": 208,
   "metadata": {},
   "outputs": [
    {
     "data": {
      "image/png": "[encoded data removed]",
      "text/plain": [
       "<Figure size 432x288 with 1 Axes>"
      ]
     },
     "metadata": {
      "needs_background": "light"
     },
     "output_type": "display_data"
    }
   ],
   "source": [
    "lists = sorted(sal_ranges_nh.items()) # sorted by key, return a list of tuples\n",
    "\n",
    "x, y = zip(*lists) # unpack a list of pairs into two tuples\n",
    "\n",
    "fig = plt.figure()\n",
    "\n",
    "ax = fig.add_axes([0,0,1,1])\n",
    "hundred_list = []\n",
    "for i in x:\n",
    "    hundred_list.append(100)\n",
    "ax.bar(x,y, hundred_list)\n",
    "\n",
    "plt.show()\n"
   ]
  },
  {
   "cell_type": "code",
   "execution_count": 31,
   "metadata": {},
   "outputs": [
    {
     "name": "stdout",
     "output_type": "stream",
     "text": [
      "('[7000.0, 7500.0]', 2) ('[5000.0, 5400.0]', 25)\n"
     ]
    }
   ],
   "source": [
    "# Calculating the mode of the distribution\n",
    "\n",
    "sal_ranges_int = sorted(sal_ranges_int)  # Sorting makes the loop below more efficient (instead of O(n2) complexity, O(n) complexity is used)\n",
    "sal_ranges_int_nh = sorted(sal_ranges_int_nh) # Sorting alone has O(nlogn) complexity\n",
    "\n",
    "mode_range = {}\n",
    "for sal_i in range(len(sal_ranges_int)-1):\n",
    "    if str(sal_ranges_int[sal_i]) not in mode_range:\n",
    "        mode_range[str(sal_ranges_int[sal_i])] = 0\n",
    "    if sal_ranges_int[sal_i] == sal_ranges_int[sal_i+1]:\n",
    "        mode_range[str(sal_ranges_int[sal_i])]+=1\n",
    "        \n",
    "mode_range_nh = {}\n",
    "for sal_i in range(len(sal_ranges_int_nh)-1):\n",
    "    if str(sal_ranges_int_nh[sal_i]) not in mode_range_nh:\n",
    "        mode_range_nh[str(sal_ranges_int_nh[sal_i])] = 0\n",
    "    if sal_ranges_int_nh[sal_i] == sal_ranges_int_nh[sal_i+1]:\n",
    "        mode_range_nh[str(sal_ranges_int_nh[sal_i])]+=1\n",
    "            \n",
    "mode_range = sorted(mode_range.items(), key=operator.itemgetter(1))\n",
    "mode_range_nh = sorted(mode_range_nh.items(), key=operator.itemgetter(1))\n",
    "    \n",
    "print(mode_range[len(mode_range)-1], mode_range_nh[len(mode_range_nh)-1])\n"
   ]
  },
  {
   "cell_type": "code",
   "execution_count": null,
   "metadata": {},
   "outputs": [],
   "source": []
  }
 ],
 "metadata": {
  "kernelspec": {
   "display_name": "Python 3",
   "language": "python",
   "name": "python3"
  },
  "language_info": {
   "codemirror_mode": {
    "name": "ipython",
    "version": 3
   },
   "file_extension": ".py",
   "mimetype": "text/x-python",
   "name": "python",
   "nbconvert_exporter": "python",
   "pygments_lexer": "ipython3",
   "version": "3.7.1"
  }
 },
 "nbformat": 4,
 "nbformat_minor": 2
}
